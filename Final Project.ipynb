{
 "cells": [
  {
   "cell_type": "code",
   "execution_count": null,
   "metadata": {},
   "outputs": [],
   "source": [
    "import numpy as np\n",
    "import pandas as pd\n",
    "import matplotlib.pyplot as plt\n",
    "from scipy.stats import norm \n",
    "import seaborn as sns"
   ]
  }
 ],
 "metadata": {
  "kernelspec": {
   "display_name": ".venv",
   "language": "python",
   "name": "python3"
  },
  "language_info": {
   "name": "python",
   "version": "3.12.3"
  }
 },
 "nbformat": 4,
 "nbformat_minor": 2
}
import zipfile
import pandas as pd

zip_path = '/mnt/data/online_retail 1.zip'
extracted_path = '/mnt/data/online_retail_1.xlsx'

with zipfile.ZipFile(zip_path, 'r') as zip_ref:
    zip_ref.extractall('/mnt/data/')

corrected_extracted_path = '/mnt/data/Online Retail.xlsx'

df_full = pd.read_excel(corrected_extracted_path, sheet_name=0)

# Adding a column for the day of the week
df_full['InvoiceDate'] = pd.to_datetime(df_full['InvoiceDate'])
df_full['DayOfWeek'] = df_full['InvoiceDate'].dt.day_name()

# Most purchased products and frequency
product_counts_full = df_full['StockCode'].value_counts().head(10)

# Most common day of the week
top_10_items_full = product_counts_full.index
common_day_per_item = df_full[df_full['StockCode'].isin(top_10_items_full)].groupby('StockCode')['DayOfWeek'].agg(lambda x: x.value_counts().idxmax())

# Summary
summary_df = pd.DataFrame({
    'StockCode': top_10_items_full,
    'Most Common Day': common_day_per_item.values
})

tools.display_dataframe_to_user(name="Top 10 Items and Most Common Day of the Week", dataframe=summary_df)

summary_df

# Quantity of each Stock Code
quantity_per_stock_code = df_full.groupby('StockCode')['Quantity'].sum().sort_values(ascending=False).head(10)

quantity_per_stock_code.reset_index()
