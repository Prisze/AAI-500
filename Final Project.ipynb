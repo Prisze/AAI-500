{
 "cells": [
  {
   "cell_type": "code",
   "execution_count": null,
   "metadata": {},
   "outputs": [],
   "source": [
    "import numpy as np\n",
    "import pandas as pd\n",
    "import matplotlib.pyplot as plt\n",
    "from scipy.stats import norm \n",
    "import seaborn as sns"
   ]
  }
 ],
 "metadata": {
  "kernelspec": {
   "display_name": ".venv",
   "language": "python",
   "name": "python3"
  },
  "language_info": {
   "name": "python",
   "version": "3.12.3"
  }
 },
 "nbformat": 4,
 "nbformat_minor": 2
}


#Final Project Initial Code for Alleyne

import zipfile
import pandas as pd
import os

file_path = '/mnt/data/online_retail.zip'

with zipfile.ZipFile(file_path, 'r') as zip_ref:
    zip_ref.extractall('/mnt/data/')

extracted_files = os.listdir('/mnt/data/')
print(extracted_files)

excel_path = '/mnt/data/Online Retail.xlsx'

df = pd.read_excel(excel_path, nrows=1000)

print(df.head())

top_10_stock_codes = df['StockCode'].value_counts().head(10)
print(top_10_stock_codes)
